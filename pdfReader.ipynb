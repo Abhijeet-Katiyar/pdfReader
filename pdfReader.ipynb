{
 "cells": [
  {
   "cell_type": "code",
   "execution_count": 3,
   "metadata": {},
   "outputs": [
    {
     "name": "stdout",
     "output_type": "stream",
     "text": [
      "Requirement already satisfied: PyPDF2 in c:\\users\\nacromancer\\anaconda3\\lib\\site-packages (1.26.0)\n",
      "Note: you may need to restart the kernel to use updated packages.\n"
     ]
    }
   ],
   "source": [
    "#pip install PyPDF2"
   ]
  },
  {
   "cell_type": "code",
   "execution_count": 27,
   "metadata": {},
   "outputs": [],
   "source": [
    "import PyPDF2\n",
    "import re"
   ]
  },
  {
   "cell_type": "code",
   "execution_count": 32,
   "metadata": {},
   "outputs": [],
   "source": [
    "def clean(text):\n",
    "    reg=re.compile('[A-Za-z0-9. ]')\n",
    "    return ''.join(re.findall(reg,text))"
   ]
  },
  {
   "cell_type": "code",
   "execution_count": 33,
   "metadata": {},
   "outputs": [],
   "source": [
    "def read_pdf_file(file_path):\n",
    "    \"\"\"Function to extract text\"\"\"\n",
    "    pdf_obj=open(file_path,'rb')\n",
    "    pdfReader=PyPDF2.PdfFileReader(pdf_obj)\n",
    "    pdf_text=\"\"        # this string will store text of every page from pdf\n",
    "    for i in range(pdfReader.numPages):\n",
    "        page_obj=pdfReader.getPage(i)\n",
    "        print(clean(page_obj.extractText()))\n",
    "    return pdf_text"
   ]
  },
  {
   "cell_type": "code",
   "execution_count": 35,
   "metadata": {},
   "outputs": [],
   "source": [
    "# approach: extract text from every page and split by new line character to make a list of sentenes.\n",
    "# check every sentence if it contains the keyword.\n",
    "# store the page_number and sentence in appropriate list and return it in form of dictionary\n",
    "\n",
    "def search_keyword(pdf_file_path, keyword):\n",
    "    \"\"\"function to search page and sentence which contains the keyword\"\"\"\n",
    "    pdf_obj=open(pdf_file_path,'rb')\n",
    "    pdfReader=PyPDF2.PdfFileReader(pdf_obj)\n",
    "    page,sentence=[],[] \n",
    "    for i in range(pdfReader.numPages):         # i represents page number\n",
    "        page_obj=pdfReader.getPage(i)\n",
    "        text=clean(page_obj.extractText())\n",
    "        l=text.split(\".\")\n",
    "        for j in l:             # j represents sentence\n",
    "            if keyword in j:\n",
    "                page.append(i+1)\n",
    "                sentence.append(j.replace(\"\\n\", \"\").strip())\n",
    "    return dict(zip(page,sentence))\n",
    "#     return [{\"page_number\": i, \"sentence\": \"some text sjajadn snajksjakdna djajakj\"}]"
   ]
  },
  {
   "cell_type": "code",
   "execution_count": 38,
   "metadata": {},
   "outputs": [
    {
     "name": "stdout",
     "output_type": "stream",
     "text": [
      "Enter absolute file pathC:/Users/Nacromancer/Downloads/1203.2514.pdf\n",
      "International Journal of Computer Science  Information Technology IJCSIT Vol 4 No 1 Feb 2012 DOI  10.5121ijcsit.2012.4103                                                                                                                    33    K.Sreedhar1 and B.Panlal2 1Department of Electronics and communication Engineering VITS N9  Karimnagar Andhra Pradesh India sreedharkallemyahoo.com 2Department of Electronics and communication Engineering VCE S4  Karimnagar Andhra Pradesh India panlal4uyahoo.com  ABSTRACT  This paper deals with enhancement of images with poor contrast and detection of background. Proposes a frame work which is used to detect the background in images characterized by poor contrast. Image enhancement has been carried out by the two methods based on the Webers law notion. The first method employs information from image background analysis by blocks while the second transformation method utilizes the opening operation closing operation which is employed to define the multibackground gray scale images. The complete image processing is done using MATLAB simulation model. Finally this paper is organized as follows as Morphological transformation and Webers law. Image background approximation to the background by means of block analysis in conjunction with transformations that enhance images with poor lighting. The multibackground notion is introduced by means of the opening by reconstruction shows a comparison among several techniques to improve contrast in images. Finally conclusions are presented. KEYWORDS Image Background Analysis by blocks Morphological Methods Webers law notion Opening Operation Closing Operation ErosionDilation method Block Analysis for Gray level images. 1. INTRODUCTION The image enhancement problem in digital images can be approached from various methodologies among which is mathematical morphology MM. Such operators consist in accordance to some proximity criterion in selecting for each point of the analyzed image a new grey level between two patterns primitives 1 4. Even though morphological contrast has been largely studied there are no methodologies from the point of view MM capable of simultaneously normalizing and enhancing the contrast in images with poor lighting. On the other side one of the most common techniques in image processing to enhance dark regions is the use of nonlinear functions such as logarithm or power functions  otherwise a method that works in the frequency domain is the homomorphism filter. However the main disadvantage of histogram equalization is that the global properties of the image cannot be properly applied in a local context frequently producing a poor performance in detail preservation. In a method to enhance contrast is proposed the methodology consists in solving an optimization problem that maximizes the average local contrast of an image.  This paper deals with the detection of background in images with poor contrast. The complete image processing is done using MATLAB simulation model. The optimization formulation includes a perceptual constraint derived directly from human super threshold contrast sensitivity function. The authors apply the proposed operators to some \n",
      "International Journal of Computer Science  Information Technology IJCSIT Vol 4 No 1 Feb 2012 34    images with poor lighting with good results. On the other hand a methodology to enhance contrast based on colour statistics from a training set of images which look visually appealing is presented. Here the basic idea is to select a set of training images which look good perceptually next a Gaussian mixture model for the colour distribution in the face region is built and for any given input image a colour tone mapping is performed so that the colour statistics in the face region matches the training examples235. In this way even though the reported algorithms to compensate changes in lighting are varied some are more adequate than others. In this work two methodologies to compute the image background are proposed. Also some operators to enhance and normalize the contrast in grey level images with poor lighting are introduced. Contrast operators are based on the logarithm function in a similar way to Webers law the use of the logarithm function avoids abrupt changes in lighting. Also two approximations to compute the background in the processed images are proposed. The first proposal consists in an analysis by blocks whereas in the second proposal the opening by reconstruction is used given its following properties   It passes through regional minima and   It merges components of the image without considerably modifying other structures. Finally this paper is organized as follows 8. Morphological transformation and Webers law presents a brief background on Webers law and some morphological transformations. Image background approximation to the background by means of block analysis in conjunction with transformations that enhance images with poor lighting. The multibackground notion is introduced by means of the opening by reconstruction. A comparison among several techniques to improve contrast in images. Finally conclusions are presented. The aim of the paper is to detect the background image and enhance the contrast in gray level image with poor lighting. First operator applies information from block analysis and second operators uses opening by reconstruction.  1.1. Existing System The range of intensity i.e. the difference between highest and lowest intensity values in an image gives a measure of its contrast. There are standard techniques like histogram equalization histogram stretching for improving the poor contrast of the degraded image 11. However there is a need for devising contextsensitive techniques based on local contrast variation since the image characteristics differ considerably from one region to another in the same image and also the local histogram does not necessarily follow the global histogram. The enhancement level is not significant and provides good results only for certain images but fails to provide good results for most of the images especially those taken under poor lighting. In other words it doesnt provide good performance for detail preservation.   1.2. Proposed System In a method to enhance contrast is proposed the methodology consists in solving an optimization problem that maximizes the average local contrast of an image. The optimization formulation includes a perceptual constraint derived directly from human threshold contrast sensitivity function. The authors apply the proposed operators to some images with poor lighting with good results. On the other hand a methodology to enhance contrast based on color statistics from a training set of images which look visually appealing is presented. Here the basic idea is to select a set of training images which look good perceptually next a Gaussian mixture model for the color distribution in the face region is built and for any given input image a color tone mapping is performed so that the color statistics in the face region matches the training examples. In this way even though the reported algorithms to compensate changes in lighting are varied some are more adequate than others.    \n",
      "International Journal of Computer Science  Information Technology IJCSIT Vol 4 No 1 Feb 2012 35    2. MORPHOLOGICAL TRANSFORMATIONS AND WEBERS LAW 2.1. Morphology Morphology is a technique of image processing based on shape and form of objects. Morphological methods apply a structuring element to an input image creating an output image at the same size. The value of each pixel in the input image is based on a comparison of the corresponding pixel in the input image with its neighbors. By choosing the size and shape of the neighbor you can construct a morphological operation that is sensitive to specific shapes in the input image. The morphological operations can first be defined on grayscale images where the source image is planar singlechannel. The definition can then be expanded to fullcolour images.  2.2. Morphological Operations Morphological operations such as erosion dilation opening and closing. Often combinations of these operations are used to perform morphological image analysis 3 17. There are many useful operators defined in mathematical morphology. They are dilation erosion opening and closing. Morphological operations apply structuring elements to an input image creating an output image of the same size. Irrespective of the size of the structuring element the origin is located at its centre. Morphological opening isBfxmgand Morphological closing is Bfxmj   BBBBBBfxfxfxfxmmmmmmgdejed                                                   1 where ma homothetic parameter size is m means a square of 2121mm pixels. B is the structuring element of size 3  3 here m  1. 2.2.1.   Dilation Dilation is a transformation that produces an image that is the same shape as the original but is a different size. Dilation stretches or shrinks the original figure 10. Dilation increases the valleys and enlarges the width of maximum regions so it can remove negative impulsive noises but do little on positives ones.  The dilation of A by the structuring element B is defined by bbBABUA                                                                    2 If B has a center on the origin as before then the dilation of A by B can be understood as the locus of the points covered by B when the center of B moves inside A.  Dilation of image f by structuring element s is given byfs. The structuring element s is positioned with its origin at x y and the new pixel value is determined using the rule  10ifshitsfgxyotherwise                                               3 The following figure illustrates the morphological dilation of a gray scale image. Note how the structuring element defines the neighbourhood of the pixel of interest which is circled. The dilation function applies the appropriate rule to the pixels in the neighbourhood and assigns a value to the corresponding pixel in the output image. In the figure the morphological dilation function sets the value of the output pixel to 16 because it is the maximum value of all the pixels \n",
      "International Journal of Computer Science  Information Technology IJCSIT Vol 4 No 1 Feb 2012 36    in the input pixels neighbourhood defined by the structuring element is on. Easiest way to describe it is to imagine the same faxtext is written with a thicker pen    Figure 1.Morphological Dilation of a Gray scale Image   Figure 2. Example for Dilation operation  In a binary image if any of the pixels is set to the value 1 the output pixel is set to 1.  2.2.2.    Erosion It is used to reduce objects in the image and known that erosion reduces the peaks and enlarges the widths of minimum regions so it can remove positive noises but affect negative impulsive noises little.   Figure 3. Example for Erosion operation  The erosion of the dark blue square resulting in light blue square. The erosion of the binary image A by the structuring element B is defined by ABzEBA                                                   4 In a binary image if any of the pixels is set to 0 the output pixel is set to 0. \n"
     ]
    },
    {
     "name": "stdout",
     "output_type": "stream",
     "text": [
      "International Journal of Computer Science  Information Technology IJCSIT Vol 4 No 1 Feb 2012 37    Erosion of image f by structuring element s is given by     f s. The structuring element s is positioned with its origin at x y and the new pixel value is determined using the rule 10ifshitsfgxyotherwise                                            5 In the above equation fit means all on pixel in the structuring element covers an on pixel in the image. The following figure illustrates the morphological erosion of a gray scale image. Note how the structuring element defines the neighbourhood of the pixel of interest which is circled. The dilation function applies the appropriate rule to the pixels in the neighbourhood and assigns a value to the corresponding pixel in the output image. In the figure the morphological erosion function sets the value of the output pixel to 14 because it is the minimum value of all the pixels in the input pixels neighbourhood defined by the structuring element is on.   Figure 4. Morphological Erosion of a Grayscale Image 2.2.3. Opening Operation   Figure 5. Opening The opening of A by B is obtained by the erosion of A by B followed by dilation of the resulting image by B ABABB                                                             6 In the case of the square of side 10 and a disc of radius 2 as the structuring element the opening is a square of side 10 with rounded corners where the corner radius is 2. The sharp edges start to disappear. Opening of an image is erosion followed by dilation with the same structuring element.  2.2.4. Closing Operation Closing of an image is the reverse of opening operation.  \n",
      "International Journal of Computer Science  Information Technology IJCSIT Vol 4 No 1 Feb 2012 38                                             Figure 6.Closing  The closing of A by B is obtained by the dilation of A by B followed by erosion of the resulting structure by B ABABB                                                           7 The first method proposed is the block analysis where the entire image is split into a number of blocks and each block is enhanced individually. The next proposed method is the erosiondilation method which is similar to block analysis but uses morphological operations erosion and dilation for the entire image rather than splitting into blocks. All these methods were initially applied for the gray level images and later were extended to colour images by splitting the colour image into its respective R G and B components individually enhancing them and concatenating them to yield the enhanced image. All the above mentioned techniques operate on the image in the spatial domain. The final method is the DCT where the frequency domain is used. Here   we scale the DC coefficients of the image after DCT has been taken. The DC coefficient is adjusted as it contains the maximum information. Here we move from RGB domain to YCbCr domain for processing and in YCbCr to adjust scale the DC coefficient i.e. Y 0 0. The image is converted from RGB to YCbCr domain because if the image is enhanced without converting there is a good chance that it may yield an undesired output image. The enhancement of images is done using the log operator 1.This is taken because it avoids abrupt changes in lighting. For example if 2 adjacent pixel values are 10 and 100 their difference in normal scale is 90.But in the logarithmic scale this difference reduces to just 1 thus providing a perfect platform for image enhancement.  2.3. Webers Law The study of contrast sensitivity has dominated visual perception research. In psychovisual studies the contrast C of an object with luminance maxL against its surrounding luminance minL is defined as follows 13 14 and 15      maxminminLLCL                                                         8 C  Contrast of the imagemaxL  Luminance of the image and minL  Luminance of the surroundings If minLLand maxminLLLD 8  can be rewritten as 21     LCLD                                                                    9 \n",
      "International Journal of Computer Science  Information Technology IJCSIT Vol 4 No 1 Feb 2012 39    On the other hand in a methodology to compute the background parameter was proposed. The methodology consists in calculating the average between the smallest and largest regional minima. However the main disadvantage of this proposal is that the image background is not detected in a local way. As a result the contrast is not correctly enhanced in images with poor lighting since considerable changes occur in the image background due to abrupt changes in luminance. In this paper an approximation to Webers law 14 is considered by taking the luminance L as the grey level intensity of a function image Equation 9 indicates that logLD is proportional toC therefore Webers law can be expressed as   log0CkLbL                                10 This law has a logarithmic relation. This technique is applied to image processing to enhance the image effectively. Where C is the contrast k and b are constants b being the background parameter and k being the scaling factor for enhancement.  Webers law can be best understood from the following example. Consider a photo taken in a dark room. The obtained photo actually consists of 2 different things. One is what we visually perceive in that image and the other is what is actually present in that image. Webers law simply states that the relation between these two is logarithmic.  In our case an approximation to Webers law is considered by taking the luminance L as the grey level intensity of a function image in this way expression 10 is written as log0Ckfbf                               11  3. IMAGE BACKGROUND ANALYSIS BY BLOCKS Morphological transformations Opening by reconstruction ErosionDilation method and Block Analysis is used to detect the background of gray level and colour images 3. These techniques are first implemented in gray scale and are then extended to colour images by individually enhancing the colour components. For aiding better results the compressed domain DCT technique is used exclusively for colour image enhancement. The major advantage of the DCT method is that it can be used for any type of illumination.  In  all  the  above  methods  the enhancement of the background detected image is done using Webers law modified Webers law for compressed domain a  critical  analysis  of  the  various  advantages and drawbacks  in   each  method  are  performed  and   ways   for overcoming the drawbacks are also suggested. Here the results of each technique are illustrated for various backgrounds majority of the minimum poor lighting condition 6. In image acquisition background detection is necessary in many applications to get clear and useful information from an image which may have been picturized in different conditions like poor lighting or bright lighting moving or still etc. This Section deals with background analysis of the image by blocks. In this project D represent the digital space under study with DZZand Z and Z is the integer set. For each analyzed block maximum iM and minimum im values are used to determine the background measures. it is used to select the background parameters. Background parameters lie between clear ift and dark ift intensity levels. If ift is the dark region then background parameters takes the maximum intensity levels iM then ift is the clear region background parameters takes the minimum intensity levels im. Enhance images are we get after applying the below equation 18 log1log1xxxkffxfxfkffxOtherwisetmttmdteG                       12 and \n",
      "International Journal of Computer Science  Information Technology IJCSIT Vol 4 No 1 Feb 2012 40    255log256xxktt                                                          13  d Dilation operatione Erosion operation Dilation and erosion are the two most common morphological operations used for back ground analysis by blocks.  3.1. Block Analysis for Gray level images Let fbe the original image which is subdivided into number of blocks with each block is the subimage of the original image.  For each and every block n the minimum intensity im and maximum intensity iMvalues are calculated im and iMvalues are used to find the background criteria it in the following way 20  12......2iiimMint                                            14 it is used as a threshold between clear ift  and dark ift  intensity levels. Based on the value ofit the background parameter is decided for each analyzed block. Correspondingly the contrast enhancement is expressed as follows  log1log1iiiiiikfMffkfmOtherwisettG                               15  It is clear that the background parameter entirely is dependent up on the background criteria it value. Forift the background parameter takes the maximum intensity value iM within the analyzed block and the minimum intensity value im otherwise. In order to avoid in determination condition unit was added to the logarithmic function 12 19.   25512.....log256iimWherekin                                    16 iiiiimfWithmMftt                                                          17 The more is the number of blocks the better will be quality of the enhanced image. In the enhanced images it can be seen that the objects that are not clearly visible in the original image are revealed. As the size of the structuring element increases it is hard to preserve the image as blurring and contouring effects are severe. The results are best obtained by keeping the size of the structuring element as 2 2. Sample input left half of the image and output image right half for block analysis is shown below   Figure 7. Block Analysis 2 \n",
      "International Journal of Computer Science  Information Technology IJCSIT Vol 4 No 1 Feb 2012 41     4. IMAGE BACKGROUND ANALYSIS USING OPENING BY RECONSTRUCTION FOR GRAY SCALE IMAGES  This method is similar to block analysis in many ways apart from the fact that the manipulation is done on the image as a whole rather than partitioning it into blocks.  Firstly minimum minIxand maximum intensitymaxIx contained in a structuring element B of elemental size 3  3 is calculated.  The above obtained values are used to find the background criteria it as described below 19    minmax2IxIxxt                                                18 Where minIx and maxIx corresponds to morphological erosion and dilation respectively  Therefore 2fxfxxmmedt                                                19 In this way the contrast operator can be described as in equations 12 and 13. By employing ErosionDilation method we obtain a better local analysis of the image for detecting the background criteria than the previously used method of Blocks. This is because the structuring element B permits the analysis of eight boring pixels at each point in the image. By increasing the size of the structuring element more pixels will be taken into account for finding the background criteria 9. It can be easily visualized that several characteristics that are not visible at first sight appear in the enhanced images. The trouble with this method is that morphological erosion or dilation when used with large size of  to reveal the background undesired values maybe generated.    Figure 8. Closing By Reconstruction 2  In general it is desirable to filter an image without generating any new components. The transformation function which enables to eliminate unnecessary parts without affecting other regions of the image is defined in mathematical morphology which is termed as transformation by reconstruction. We go for opening by reconstruction because it restores the original shape of the objects in the image that remain after erosion as it touches the regional minima and merges the regional maxima. This particular characteristic allows the modification of the altitude of regional maxima when the size of the structuring element increases thereby aiding in detection of the background criteria as follows  Bxfxmtg                                                            20 Where opening by reconstruction is expressed as \n"
     ]
    },
    {
     "name": "stdout",
     "output_type": "stream",
     "text": [
      "International Journal of Computer Science  Information Technology IJCSIT Vol 4 No 1 Feb 2012 42    limnBfBnfxfxmmgde                                          21 It can be observed from the above equation that opening by reconstruction first erodes the input image and uses it as a marker. Here marker image is defined because this is the image which contains the starting or seed locations. For example here the eroded image can be used as the marker. Then dilation of the eroded image i.e. marker is performed iteratively until stability is achieved.   Figure 9. Image background obtained from the erosion of the opening by reconstruction  Background parameter bx is calculated by eroding the above obtained background criterion x which is described below  1bxfxmeg                                                    22 As it is already mentioned that morphological erosion 22 23 will generate unnecessary information when the size of the structuring element is increased in this study the image background was calculated by choosing the size of the structuring element as unity. Contrast enhancement is obtained by applying Webers law as expressed below 2 7  1log1fkxffgmmxeg                                      23 and 1maxintlogmaxint1fkxmeg                                               24 Where maxint refers to maximum gray level intensity which is equal to 255. If the intensity of the background increases the image becomes lighter because of the additive effect of the whiteness i.e. maximum intensity of the background. It is to be remembered that it is the objective of opening by reconstruction to preserve the shape of the image components that remain after erosion.   Figure10. Opening by Reconstruction 2   \n",
      "International Journal of Computer Science  Information Technology IJCSIT Vol 4 No 1 Feb 2012 43    5. SIMULATION RESULTS   a1                                                      a2   a3                                                        a4          a5                                                           a6   a7                                                       a8 \n",
      "International Journal of Computer Science  Information Technology IJCSIT Vol 4 No 1 Feb 2012 44     a9                                                       a10 Figure 11. Image background detection using the morphological erosion and dilation. a1.Background detection image a2. Original image a3.Eroded image a4. Dilated image    a5.GRAY operation image      a6. IR image    a7.Closing Operation a8. Dilation Operation    a9.Erosion Operation a10. Opening Operation  b1                                                             b2         b3                                                              b4   b5                                                      b6 \n",
      "International Journal of Computer Science  Information Technology IJCSIT Vol 4 No 1 Feb 2012 45     b7                                                      b8   b9                                                   b10 Figure 12.Image background obtained from the opening by reconstruction  b1.Background detection image b2. Original image b3.Eroded image b4. Dilated image    b5.GRAY operation image b6. IR image    b7.Closing Operation b8. Dilation Operation    b9.Erosion Operation b10. Opening Operation   c1                                                           c2  c3                                                         c4 \n",
      "International Journal of Computer Science  Information Technology IJCSIT Vol 4 No 1 Feb 2012 46       c5                                                        c6   c7   c8 \n",
      "International Journal of Computer Science  Information Technology IJCSIT Vol 4 No 1 Feb 2012 47      c9                                                 c10  c11                                               c12  Figure 13.Image background detection using block approach and contrast enhancement c1.Background detection image c2. Original image c3.GRAY image c4. IR image    c5.Eroded image c6.Dilated image c7.Block Analysis c8.Image Operation    c9.Opening Operation c10. Closing Operation c11.Erosion Operation c11.Dilation Operation   d1                  d2   d3                 d4  \n",
      "International Journal of Computer Science  Information Technology IJCSIT Vol 4 No 1 Feb 2012 48      d5                                   d6  d7   e1                             e2    e3                            e4 \n",
      "International Journal of Computer Science  Information Technology IJCSIT Vol 4 No 1 Feb 2012 49     e5                              e6 Figure 14.Image background using the opening by reconstruction with different   sizes. d1 Original image d2 d3 d4 d5 d6 background images and d7 Image operation obtained after applying equation 22 with structuring element sizes  205080110180andm   e1 Original image e2 e3 e4 e5 e6 enhanced images obtained from the application of equation 24.  6. CONCLUSION First a methodology was introduced to compute an approximation to the background using blocks analysis. This proposal was subsequently extended using mathematical morphology operators. However a difficulty was detected when the morphological erosion and dilation were employed therefore a new proposal to detect the image background was propounded that is based on the use of morphological connected transformations. Also morphological contrast enhancement transformations were introduced. Such operators are based on Webers law notion. The performances of the proposals provided in this work were illustrated by means of several examples throughout the paper. Also the operators performance employed in this paper were compared with others given in the literature. Finally a disadvantage of contrast enhancement transformations studied in this paper is that they can only be used satisfactorily in images with poor lighting in a future work this problem will be considered.  REFERENCES  1.  I. R. TerolVillalobos A multiscale contrast approach on Morphological connected contrast mappings Opt. Eng. vol. 43 no. 7 pp. 15771595 2009. 2.  J. Kasperek Real time morphological image contrast enhancement in FPGA in LNCS New York Springer 2008. 3.  I.R. TerolVillalobos Morphological image enhancement and segmentation with analysis P. W. Hawkes Ed. New York Academic 2005 pp. 207273. 4.  F. Meyer and J. Serra Contrast and Activity Lattice Signal Processing vol. 16 pp. 303317 1989. 5.  J. D. MendiolaSantibaez and I. R. TerolVillalobos Morphological contrast mappings based on the flat zone notion vol. 6 pp. 2537 2005. 6. A. Toet Multiscale contrast enhancement with applications to image fusion Opt. Eng. vol. 31 no. 5 1992. 7. S. Mukhopadhyay and B. Chanda A multiscale morphological approach to local   contrast enhancement Signal Process. vol. 80 no. 4 pp. 685696 2000. 8. A. K. Jain Fundamentals of Digital Images Processing. Englewood Cliffs NJ PrenticeHall 1989.  9.  J. Short J. Kittler and K. Messer A comparison of photometric normalization algorithms for face verification presented at the IEEE Int. Conf. Automatic Face and Gesture Recognition 2004. 10.  C. R. Gonzlez and E.Woods Digital Image Processing. Englewood Cliffs NJ Prentice Hall 1992. 11.  R. H. Sherrier and G. A. Johnson Regionally adaptive histogram equalization of the chest IEEE Trans. Med. Imag. vol. MI6 pp. 17 1987. 12. A. Majumder and S. Irani Perceptionbased contrast enhancement of images ACM Trans. Appl. Percpt. vol. 4 no. 3 2007 Article 17. \n",
      "International Journal of Computer Science  Information Technology IJCSIT Vol 4 No 1 Feb 2012 50    13. Z. Liu C. Zhang and Z. Zhang Learningbased perceptual image quality improvement for video conferencing presented at the IEEEInt. Conf. Multimedia and Expo ICME Beijing China Jul. 2007. 14. E. H. Weber De pulsu resorptione audita et tactu in Annotationesanatomicae et physiologicae. Leipzig Germany Koehler 1834. 15.  J. Serra and P. Salembier Connected operators and pyramids presented at the SPIE. Image  Algebra and Mathematical Morphology SanDiego CA Jul. 1993. 16.  P. Salembier and J. Serra Flat zones filtering connected operators and filters by reconstruction IEEE Trans. Image Process. vol. 3 no.8 pp. 11531160 Aug. 1995. 17.  J. Serra Mathematical Morphology Vol. I. London U.K. Academic 1982.  18.  P. Soille Morphological Image Analysis Principle and Applications. New York SpringerVerlag 2003. 19. H. Heijmans Morphological Image Operators. New York Academic 1994.  20.  L. Vincent and E. R. Dougherty Morphological segmentation for textures and particles in Digital Image Processing Methods E. R. Dougherty Ed. New York Marcel Dekker 1994 pp. 43102. 21. E. Peli Contrast in complex images J. Opt. Soc. Amer. vol. 7 no. 10 pp. 20322040 1990.  22. Morphological Image Processing by  Steven W. Smith www.dspguide.comch254.htm  23. Erik R. Urbach and Michael H. F. Wilkinson Efficient 2D Grayscale Morphological Transformations With Arbitrary Flat Structuring Elements IEEE TRANSACTIONS ON IMAGE PROCESSING VOL. 17 NO. 1 JANUARY 2008www.cs.rug.nlmichaeltip20082dse.pdf.   Authors  K.Sreedhar received the B.Tech. degree in Electronics and Communication Engineering from JNTUH University Hyderabad India and M.Tech degree in Communication Systems from JNTUH University Hyderabad India . He attended the International Conference on Technology and Innovation at Chennai. He also attended the National Conference at Coimbatore Tamilnadu India on INNOVATIVE IN WIRELESS TECHNOLOGY. He is working as a Assistant Professor in Electronics and Communication Engineering department at Vivekananda Institute of Science and Technology Karimnagar Andhra Pradesh India He has a Life Member ship in ISTE. He published four International Research papers.  B.Panlal received the B.Tech. degree in Electronics and Communication Engineering from JNTUH University Hyderabad India and M.Tech degree from KU University Warangal India .  He has a Life Member ship in ISTE. Presently He is working at Vaageswari College of engineering AndhraPradesh India. \n",
      "PDF Text:\n",
      " \n"
     ]
    }
   ],
   "source": [
    "file_path=input(\"Enter absolute file path\")\n",
    "print(\"PDF Text:\\n\",read_pdf_file(file_path))"
   ]
  },
  {
   "cell_type": "code",
   "execution_count": 39,
   "metadata": {},
   "outputs": [
    {
     "name": "stdout",
     "output_type": "stream",
     "text": [
      "If you want to search a keyword yes/no: yes\n",
      "Enter Keyword to searchimage\n",
      "page no.: 1 \tSentence: The complete image processing is done using MATLAB simulation model\n",
      "\n",
      "page no.: 2 \tSentence: Here the basic idea is to select a set of training images which look good perceptually next a Gaussian mixture model for the color distribution in the face region is built and for any given input image a color tone mapping is performed so that the color statistics in the face region matches the training examples\n",
      "\n",
      "page no.: 3 \tSentence: The dilation function applies the appropriate rule to the pixels in the neighbourhood and assigns a value to the corresponding pixel in the output image\n",
      "\n",
      "page no.: 4 \tSentence: The erosion of the binary image A by the structuring element B is defined by ABzEBA                                                   4 In a binary image if any of the pixels is set to 0 the output pixel is set to 0\n",
      "\n",
      "page no.: 5 \tSentence: Closing Operation Closing of an image is the reverse of opening operation\n",
      "\n",
      "page no.: 6 \tSentence: In psychovisual studies the contrast C of an object with luminance maxL against its surrounding luminance minL is defined as follows 13 14 and 15      maxminminLLCL                                                         8 C  Contrast of the imagemaxL  Luminance of the image and minL  Luminance of the surroundings If minLLand maxminLLLD 8  can be rewritten as 21     LCLD                                                                    9\n",
      "\n",
      "page no.: 7 \tSentence: Enhance images are we get after applying the below equation 18 log1log1xxxkffxfxfkffxOtherwisetmttmdteG                       12 and\n",
      "\n",
      "page no.: 8 \tSentence: Sample input left half of the image and output image right half for block analysis is shown below   Figure 7\n",
      "\n",
      "page no.: 9 \tSentence: We go for opening by reconstruction because it restores the original shape of the objects in the image that remain after erosion as it touches the regional minima and merges the regional maxima\n",
      "\n",
      "page no.: 10 \tSentence: It is to be remembered that it is the objective of opening by reconstruction to preserve the shape of the image components that remain after erosion\n",
      "\n",
      "page no.: 12 \tSentence: IR image    a7\n",
      "\n",
      "page no.: 13 \tSentence: IR image    b7\n",
      "\n",
      "page no.: 15 \tSentence: Dilated image c7\n",
      "\n",
      "page no.: 17 \tSentence: Irani Perceptionbased contrast enhancement of images ACM Trans\n",
      "\n",
      "page no.: 18 \tSentence: Peli Contrast in complex images J\n",
      "\n"
     ]
    }
   ],
   "source": [
    "choice=input(\"If you want to search a keyword yes/no: \")\n",
    "if(choice.lower()=='yes'):\n",
    "    keyword=input(\"Enter Keyword to search\")\n",
    "    d=search_keyword(file_path,keyword)\n",
    "    for i in d:\n",
    "        print(\"page no.:\",i,\"\\tSentence:\",d[i])\n",
    "        print()"
   ]
  },
  {
   "cell_type": "code",
   "execution_count": null,
   "metadata": {},
   "outputs": [],
   "source": []
  }
 ],
 "metadata": {
  "kernelspec": {
   "display_name": "Python 3",
   "language": "python",
   "name": "python3"
  },
  "language_info": {
   "codemirror_mode": {
    "name": "ipython",
    "version": 3
   },
   "file_extension": ".py",
   "mimetype": "text/x-python",
   "name": "python",
   "nbconvert_exporter": "python",
   "pygments_lexer": "ipython3",
   "version": "3.8.3"
  }
 },
 "nbformat": 4,
 "nbformat_minor": 4
}
